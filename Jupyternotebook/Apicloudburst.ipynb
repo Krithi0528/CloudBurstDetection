{
 "cells": [
  {
   "cell_type": "code",
   "execution_count": 16,
   "id": "e55b698a-d720-4140-a218-7aab74d7249e",
   "metadata": {},
   "outputs": [],
   "source": [
    "import pandas as pd\n",
    "from sklearn.model_selection import train_test_split\n",
    "from sklearn.ensemble import RandomForestClassifier\n",
    "from sklearn.metrics import accuracy_score, classification_report\n",
    "from sklearn.preprocessing import LabelEncoder\n",
    "import requests\n",
    "import pickle"
   ]
  },
  {
   "cell_type": "code",
   "execution_count": 17,
   "id": "e768bafd-87a2-4fdb-b48c-d5204bb85d12",
   "metadata": {},
   "outputs": [],
   "source": [
    "def fetch_weather_data(city_name, api_key):\n",
    "    url = f\"http://api.openweathermap.org/data/2.5/weather?q={city_name}&appid={api_key}&units=metric\"\n",
    "    response = requests.get(url)\n",
    "    data = response.json()\n",
    "    return data"
   ]
  },
  {
   "cell_type": "code",
   "execution_count": 53,
   "id": "0c4c073b-3a50-4c73-96cd-bba18ee1b353",
   "metadata": {},
   "outputs": [],
   "source": [
    "api_key = 'a6673e782011461b31f86f49a5d71adb'"
   ]
  },
  {
   "cell_type": "code",
   "execution_count": 54,
   "id": "39c9cf39-6ddc-4203-807e-8232428760a1",
   "metadata": {},
   "outputs": [],
   "source": [
    "city_name = 'Kottayam'"
   ]
  },
  {
   "cell_type": "code",
   "execution_count": 55,
   "id": "e2392175-6701-4d4e-a37a-d4948346ac06",
   "metadata": {},
   "outputs": [],
   "source": [
    "weather_data = fetch_weather_data(city_name, api_key)"
   ]
  },
  {
   "cell_type": "code",
   "execution_count": 56,
   "id": "aef8319f-db9b-40f0-a3ad-5ab949864e4b",
   "metadata": {},
   "outputs": [],
   "source": [
    "weather_features = {\n",
    "    'Temperature': weather_data['main']['temp'],\n",
    "    'Humidity': weather_data['main']['humidity'],\n",
    "    'Wind Speed': weather_data['wind']['speed'],\n",
    "    'Cloudiness': weather_data['clouds']['all']\n",
    "}"
   ]
  },
  {
   "cell_type": "code",
   "execution_count": 57,
   "id": "1427f717-9c94-43ab-b3fe-e51f220f9027",
   "metadata": {},
   "outputs": [],
   "source": [
    "weather_df = pd.DataFrame([weather_features])"
   ]
  },
  {
   "cell_type": "code",
   "execution_count": 58,
   "id": "cd8f78a1-ac15-423f-b694-982885005037",
   "metadata": {},
   "outputs": [],
   "source": [
    "is_cloud_burst = 1 if weather_data['weather'][0]['main'] == 'Rain' else 0"
   ]
  },
  {
   "cell_type": "code",
   "execution_count": 59,
   "id": "4f6adfef-75c1-4509-af61-ebbc8197c1f3",
   "metadata": {},
   "outputs": [],
   "source": [
    "data_for_prediction = weather_df.copy()\n",
    "data_for_prediction['IsCloudBurst'] = is_cloud_burst"
   ]
  },
  {
   "cell_type": "code",
   "execution_count": 60,
   "id": "f2e44e00-2594-4ca5-80e6-454503f5dbb2",
   "metadata": {},
   "outputs": [],
   "source": [
    "with open('random_forest_model.pkl', 'rb') as f:\n",
    "    rf_model = pickle.load(f)"
   ]
  },
  {
   "cell_type": "code",
   "execution_count": 61,
   "id": "f7709743-8516-46e0-8889-0cf6cb5c5b8d",
   "metadata": {},
   "outputs": [],
   "source": [
    "try:\n",
    "    with open('random_forest_model.pkl', 'rb') as f:\n",
    "        rf_model = pickle.load(f)\n",
    "except EOFError:\n",
    "    print(\"Error: The pickle file is empty or corrupted.\")"
   ]
  },
  {
   "cell_type": "code",
   "execution_count": 62,
   "id": "03774eb4-1686-4ebb-a486-f62ff2ac4059",
   "metadata": {},
   "outputs": [],
   "source": [
    "with open('random_forest_model_and_data.pkl', 'rb') as f:\n",
    "    model_and_data = pickle.load(f)"
   ]
  },
  {
   "cell_type": "code",
   "execution_count": 63,
   "id": "290265aa-6525-4e25-aa0f-f6102e94f868",
   "metadata": {},
   "outputs": [],
   "source": [
    "rf_model = model_and_data['model']\n",
    "X_train = model_and_data['X_train']\n",
    "y_train = model_and_data['y_train']"
   ]
  },
  {
   "cell_type": "code",
   "execution_count": 64,
   "id": "ed357bd7-578f-416a-8678-c5355563caaa",
   "metadata": {},
   "outputs": [],
   "source": [
    "training_columns = X_train.columns"
   ]
  },
  {
   "cell_type": "code",
   "execution_count": 65,
   "id": "a828198d-3166-4ec8-83bc-5a9005f5be96",
   "metadata": {},
   "outputs": [],
   "source": [
    "data_for_prediction = data_for_prediction.reindex(columns=training_columns, fill_value=0)"
   ]
  },
  {
   "cell_type": "code",
   "execution_count": 66,
   "id": "00e9f1eb-db72-484a-982f-e3157807292b",
   "metadata": {},
   "outputs": [],
   "source": [
    "prediction = rf_model.predict(data_for_prediction)"
   ]
  },
  {
   "cell_type": "code",
   "execution_count": 67,
   "id": "7fa3c743-199d-49bd-b622-0ddc9bfb39de",
   "metadata": {},
   "outputs": [
    {
     "name": "stdout",
     "output_type": "stream",
     "text": [
      "No cloud burst is predicted in the specified location.\n"
     ]
    }
   ],
   "source": [
    "if prediction[0] == 1:\n",
    "    print(\"Cloud burst is predicted in the specified location.\")\n",
    "else:\n",
    "    print(\"No cloud burst is predicted in the specified location.\")"
   ]
  },
  {
   "cell_type": "code",
   "execution_count": null,
   "id": "9f469fab-0ef9-4d07-985c-85babba05978",
   "metadata": {},
   "outputs": [],
   "source": []
  }
 ],
 "metadata": {
  "kernelspec": {
   "display_name": "Python 3 (ipykernel)",
   "language": "python",
   "name": "python3"
  },
  "language_info": {
   "codemirror_mode": {
    "name": "ipython",
    "version": 3
   },
   "file_extension": ".py",
   "mimetype": "text/x-python",
   "name": "python",
   "nbconvert_exporter": "python",
   "pygments_lexer": "ipython3",
   "version": "3.12.3"
  }
 },
 "nbformat": 4,
 "nbformat_minor": 5
}
